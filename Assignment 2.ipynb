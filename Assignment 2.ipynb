{
 "cells": [
  {
   "cell_type": "code",
   "execution_count": 1,
   "id": "c421a4f6",
   "metadata": {},
   "outputs": [],
   "source": [
    "#Members: \n",
    "#Sharnpreet Singh - Id#: 219445227  \n",
    "#James Ochieng - Id#: 219285977\n",
    "#Palvinder Singh- Id#: 219445344\n",
    "\n",
    "import json\n",
    "import csv\n",
    "import pandas as pd\n",
    "import numpy as np\n",
    "import os\n",
    "import tensorflow as tf\n",
    "\n",
    "from sklearn.model_selection import train_test_split\n",
    "from scipy.stats import zscore\n",
    "from sklearn import metrics\n",
    "from tensorflow.keras.datasets import mnist\n",
    "from sklearn import preprocessing\n",
    "from tensorflow.keras.models import Sequential\n",
    "from tensorflow.keras.layers import Dense, Activation,Dropout,Flatten\n",
    "from tensorflow.keras.callbacks import EarlyStopping\n",
    "from tensorflow.keras.layers import Conv2D, MaxPooling2D\n",
    "from collections.abc import Sequence\n",
    "from sklearn.metrics import confusion_matrix,classification_report\n",
    "\n",
    "%matplotlib inline\n",
    "import matplotlib.pyplot as plt\n",
    "from sklearn.metrics import roc_curve, auc\n",
    "\n",
    "pd.set_option(\"display.max_columns\", None)\n",
    "#READ THE CSV FILE INTO DATAFRAME\n",
    "df= pd.read_csv('network_intrusion_data.csv',na_values=['NA',' ','?'])"
   ]
  },
  {
   "cell_type": "code",
   "execution_count": 2,
   "id": "a365c2e1",
   "metadata": {},
   "outputs": [],
   "source": [
    "#ADD COLUMNS TO THE DATAFRAME\n",
    "df.columns = ['duration','protocol_type','service','flag','src_bytes','dst_bytes','land','wrong_fragment','urgent','hot',   \n",
    "              'num_failed_logins', 'logged_in','num_compromised','root_shell','su_attempted','num_root','num_file_creations',\n",
    "              'num_shells','num_access_files','num_outbound_cmds','is_host_login','is_guest_login','count','srv_count', \n",
    "              'serror_rate','srv_serror_rate','rerror_rate','srv_rerror_rate','same_srv_rate','diff_srv_rate',\n",
    "              'srv_diff_host_rate','dst_host_count','dst_host_srv_count','dst_host_same_srv_rate','dst_host_diff_srv_rate', \n",
    "              'dst_host_same_src_port_rate','dst_host_srv_diff_host_rate','dst_host_serror_rate','dst_host_srv_serror_rate',\n",
    "              'dst_host_rerror_rate','dst_host_srv_rerror_rate','outcome'] "
   ]
  },
  {
   "cell_type": "code",
   "execution_count": 3,
   "id": "43ee8036",
   "metadata": {},
   "outputs": [],
   "source": [
    "#DROP DUPLICATES\n",
    "df_new=df.drop_duplicates()"
   ]
  },
  {
   "cell_type": "code",
   "execution_count": 4,
   "id": "26826dfd",
   "metadata": {},
   "outputs": [],
   "source": [
    "# Convert a Pandas dataframe to the x,y inputs that TensorFlow needs\n",
    "def to_xy(df, target):\n",
    "    result = []\n",
    "    for x in df.columns:\n",
    "        if x != target:\n",
    "            result.append(x)\n",
    "    # find out the type of the target column. \n",
    "    target_type = df[target].dtypes\n",
    "    target_type = target_type[0] if isinstance(target_type, Sequence) else target_type\n",
    "    # Encode to int for classification, float otherwise. TensorFlow likes 32 bits.\n",
    "    if target_type in (np.int64, np.int32):\n",
    "        # Classification\n",
    "        dummies = pd.get_dummies(df[target])\n",
    "        return df[result].values.astype(np.float32), dummies.values.astype(np.float32)\n",
    "    else:\n",
    "        # Regression\n",
    "        return df[result].values.astype(np.float32), df[target].values.astype(np.float32)\n",
    "    \n",
    "def encode_text_index(df, name):\n",
    "    le = preprocessing.LabelEncoder()\n",
    "    df[name] = le.fit_transform(df[name])\n",
    "    return le.classes_\n",
    "\n",
    "# Encode a numeric column as zscores\n",
    "def encode_numeric_zscore(df, name, mean=None, sd=None):\n",
    "    if mean is None:\n",
    "        mean = df[name].mean()\n",
    "\n",
    "    if sd is None:\n",
    "        sd = df[name].std()\n",
    "\n",
    "    df[name] = (df[name] - mean) / sd\n",
    "    \n",
    "def encode_text_dummy(df, name):\n",
    "    dummies = pd.get_dummies(df[name])\n",
    "    for x in dummies.columns:\n",
    "        dummy_name = \"{}-{}\".format(name, x)\n",
    "        df[dummy_name] = dummies[x]\n",
    "    df.drop(name, axis=1, inplace=True)\n",
    "\n",
    "def store_results(activation,optimizer,kernel_num,kernel_size,y_true,pred):\n",
    "    accuracy = metrics.accuracy_score(y_true, pred)\n",
    "    #print(\"Accuracy score: {}\".format(score))\n",
    "    precision = metrics.precision_score(y_true, pred, average= \"weighted\")\n",
    "    #print(\"Precision score: {}\".format(score))\n",
    "    recall = metrics.recall_score(y_true, pred, average= \"weighted\")\n",
    "    #print(\"Recall score: {}\".format(score))\n",
    "    f1 = metrics.f1_score(y_true, pred, average= \"weighted\")\n",
    "    #print(\"F1 score: {}\".format(score))\n",
    "    df_model_data.loc[len(df_model_data.index)] = [activation,optimizer, kernel_num, kernel_size,accuracy,precision,recall,f1]"
   ]
  },
  {
   "cell_type": "code",
   "execution_count": 5,
   "id": "f7f02ae3",
   "metadata": {
    "scrolled": true
   },
   "outputs": [],
   "source": [
    "df_new=df_new.dropna()\n",
    "df_model_data=pd.DataFrame(columns =['ACTIVATION','OPTIMIZER','KERNEL NUMBER','KERNEL SIZE','ACCURACY','PRECISION','RECALL','F1 SCORE'])"
   ]
  },
  {
   "cell_type": "code",
   "execution_count": 6,
   "id": "e63bca58",
   "metadata": {},
   "outputs": [
    {
     "data": {
      "text/plain": [
       "array(['OTH', 'REJ', 'RSTO', 'RSTOS0', 'RSTR', 'S0', 'S1', 'S2', 'S3',\n",
       "       'SF', 'SH'], dtype=object)"
      ]
     },
     "execution_count": 6,
     "metadata": {},
     "output_type": "execute_result"
    }
   ],
   "source": [
    "#Encode Good Connections as \"0\" AND Attacks as \"1\"\n",
    "encode_text_index(df_new,'protocol_type')\n",
    "encode_text_index(df_new,'service')\n",
    "encode_text_index(df_new,'flag')"
   ]
  },
  {
   "cell_type": "code",
   "execution_count": 7,
   "id": "156e89d5",
   "metadata": {},
   "outputs": [],
   "source": [
    "#CREATE A DICTIONARY FOR VALUES\n",
    "attacks_to_num={'normal.':0,\n",
    "               'back.':1,\n",
    "               'buffer_overflow.':1,\n",
    "               'ftp_write.':1,\n",
    "               'guess_passwd.':1,\n",
    "               'imap.':1,\n",
    "               'ipsweep.':1,\n",
    "               'land.':1,\n",
    "               'loadmodule.':1,\n",
    "               'multihop.':1,\n",
    "               'neptune.':1,\n",
    "               'nmap.':1,\n",
    "               'perl.':1,\n",
    "               'phf.':1,\n",
    "               'pod.':1,\n",
    "               'portsweep.':1,\n",
    "               'rootkit.':1,\n",
    "               'satan.':1,\n",
    "               'smurf.':1,\n",
    "               'spy.':1,\n",
    "               'teardrop.':1,\n",
    "               'warezclient.':1,\n",
    "               'warezmaster.':1};\n",
    "df_new['outcome']=df['outcome'].map(attacks_to_num)"
   ]
  },
  {
   "cell_type": "code",
   "execution_count": 8,
   "id": "e4a6a21f",
   "metadata": {
    "scrolled": true
   },
   "outputs": [],
   "source": [
    "encode_numeric_zscore(df_new, 'duration')\n",
    "encode_numeric_zscore(df_new, 'src_bytes')\n",
    "encode_numeric_zscore(df_new, 'dst_bytes')\n",
    "encode_numeric_zscore(df_new, 'wrong_fragment')\n",
    "encode_numeric_zscore(df_new, 'urgent')\n",
    "\n",
    "encode_numeric_zscore(df_new, 'hot')\n",
    "encode_numeric_zscore(df_new, 'num_failed_logins')\n",
    "encode_numeric_zscore(df_new, 'num_compromised')\n",
    "encode_numeric_zscore(df_new, 'root_shell')\n",
    "encode_numeric_zscore(df_new, 'su_attempted')\n",
    "\n",
    "encode_numeric_zscore(df_new, 'num_root')\n",
    "encode_numeric_zscore(df_new, 'num_file_creations')\n",
    "encode_numeric_zscore(df_new, 'num_shells')\n",
    "encode_numeric_zscore(df_new, 'num_access_files')\n",
    "encode_numeric_zscore(df_new, 'num_outbound_cmds')\n",
    "encode_numeric_zscore(df_new, 'count')\n",
    "encode_numeric_zscore(df_new, 'serror_rate')\n",
    "encode_numeric_zscore(df_new, 'rerror_rate')\n",
    "encode_numeric_zscore(df_new, 'same_srv_rate')\n",
    "encode_numeric_zscore(df_new, 'diff_srv_rate')\n",
    "encode_numeric_zscore(df_new, 'srv_count')\n",
    "encode_numeric_zscore(df_new, 'srv_serror_rate')\n",
    "encode_numeric_zscore(df_new, 'srv_rerror_rate')\n",
    "encode_numeric_zscore(df_new, 'srv_diff_host_rate')\n",
    "\n",
    "encode_numeric_zscore(df_new, 'dst_host_count')\n",
    "encode_numeric_zscore(df_new, 'dst_host_srv_count')\n",
    "encode_numeric_zscore(df_new, 'dst_host_same_srv_rate')\n",
    "encode_numeric_zscore(df_new, 'dst_host_diff_srv_rate')\n",
    "encode_numeric_zscore(df_new, 'srv_count')\n",
    "encode_numeric_zscore(df_new, 'dst_host_same_src_port_rate')\n",
    "encode_numeric_zscore(df_new, 'dst_host_srv_diff_host_rate')\n",
    "encode_numeric_zscore(df_new, 'dst_host_serror_rate')\n",
    "encode_numeric_zscore(df_new, 'dst_host_srv_serror_rate')\n",
    "encode_numeric_zscore(df_new, 'dst_host_rerror_rate')\n",
    "encode_numeric_zscore(df_new, 'dst_host_srv_rerror_rate')\n",
    "\n",
    "\n",
    "df_new=df_new.drop('num_outbound_cmds',axis=1)\n",
    "#df_new"
   ]
  },
  {
   "cell_type": "code",
   "execution_count": 9,
   "id": "83da7a32",
   "metadata": {},
   "outputs": [],
   "source": [
    "#ONE_HOT ENCODE\n",
    "encode_text_dummy(df_new,'protocol_type')\n",
    "encode_text_dummy(df_new,'service')\n",
    "encode_text_dummy(df_new,'flag')"
   ]
  },
  {
   "cell_type": "code",
   "execution_count": 10,
   "id": "3c473d86",
   "metadata": {},
   "outputs": [],
   "source": [
    "def plot_confusion_matrix(cm, names, title='Confusion matrix', cmap=plt.cm.Blues):\n",
    "    plt.imshow(cm, interpolation='nearest', cmap=cmap)\n",
    "    plt.title(title)\n",
    "    plt.colorbar()\n",
    "    tick_marks = np.arange(len(names))\n",
    "    plt.xticks(tick_marks, names, rotation=45)\n",
    "    plt.yticks(tick_marks, names)\n",
    "    plt.tight_layout()\n",
    "    plt.ylabel('True label')\n",
    "    plt.xlabel('Predicted label')"
   ]
  },
  {
   "cell_type": "code",
   "execution_count": 11,
   "id": "9925188f",
   "metadata": {},
   "outputs": [],
   "source": [
    "#SPLIT DATA\n",
    "encode_text_dummy(df_new,'outcome')\n",
    "y=df_new[['outcome-0','outcome-1']]\n",
    "df_new=df_new.drop('outcome-0',axis=1)\n",
    "df_new=df_new.drop('outcome-1',axis=1)\n",
    "x=df_new;\n",
    "\n",
    "x_train,x_test,y_train,y_test=train_test_split(x,y,test_size=.20,random_state=42)\n",
    "x_train=x_train.to_numpy()\n",
    "y_train=y_train.to_numpy()\n",
    "x_test=x_test.to_numpy()\n",
    "y_test=y_test.to_numpy()\n"
   ]
  },
  {
   "cell_type": "code",
   "execution_count": 39,
   "id": "dbdb5109",
   "metadata": {
    "scrolled": true
   },
   "outputs": [
    {
     "name": "stdout",
     "output_type": "stream",
     "text": [
      "Epoch 1/1000\n",
      "3640/3640 - 2s - loss: 0.0237 - accuracy: 0.9940 - val_loss: 0.0639 - val_accuracy: 0.9976\n",
      "Epoch 2/1000\n",
      "3640/3640 - 2s - loss: 0.0249 - accuracy: 0.9974 - val_loss: 0.0777 - val_accuracy: 0.9979\n",
      "Epoch 3/1000\n",
      "3640/3640 - 2s - loss: 0.0056 - accuracy: 0.9977 - val_loss: 0.0943 - val_accuracy: 0.9980\n",
      "Epoch 4/1000\n",
      "3640/3640 - 2s - loss: 0.0038 - accuracy: 0.9980 - val_loss: 0.1724 - val_accuracy: 0.9985\n",
      "Epoch 5/1000\n",
      "3640/3640 - 2s - loss: 0.0026 - accuracy: 0.9982 - val_loss: 0.1784 - val_accuracy: 0.9984\n",
      "Epoch 6/1000\n",
      "3640/3640 - 2s - loss: 0.0019 - accuracy: 0.9984 - val_loss: 0.1426 - val_accuracy: 0.9986\n",
      "Epoch 00006: early stopping\n"
     ]
    }
   ],
   "source": [
    "#FULLY CONNECTED NEURAL MODEL WITH ACTIVATION RELU AND OPTIMIZER ADAM\n",
    "from tensorflow.keras.callbacks import ModelCheckpoint\n",
    "model=Sequential()\n",
    "model.add(Dense(50, input_dim=x.shape[1], activation='relu'))\n",
    "model.add(Dense(40,activation='relu'))\n",
    "model.add(Dense(2))\n",
    "model.compile(loss='mean_squared_error', optimizer='adam', metrics=['accuracy'])\n",
    "monitor = EarlyStopping(monitor='val_loss', min_delta=1e-3, patience=5, verbose=2, mode='auto')\n",
    "\n",
    "model.fit(x_train,y_train,validation_data=(x_test,y_test),callbacks=[monitor],verbose=2,epochs=1000)\n",
    "np.set_printoptions(threshold=np.inf)\n",
    "pred = model.predict(x_test)\n",
    "pred = np.argmax(pred,axis=1)\n",
    "y_true = np.argmax(y_test,axis=1)\n",
    "store_results('RELU','ADAM',' ' ,' ',y_true,pred)"
   ]
  },
  {
   "cell_type": "code",
   "execution_count": 40,
   "id": "d55f9cf6",
   "metadata": {
    "scrolled": false
   },
   "outputs": [
    {
     "name": "stdout",
     "output_type": "stream",
     "text": [
      "[[17569    20]\n",
      " [   22 11506]]\n",
      "Ploting confusion matrix for Activation: RELU & Optimizer: ADAM\n"
     ]
    },
    {
     "data": {
      "image/png": "[encoded data removed]",
      "text/plain": [
       "<Figure size 432x288 with 2 Axes>"
      ]
     },
     "metadata": {
      "needs_background": "light"
     },
     "output_type": "display_data"
    },
    {
     "name": "stdout",
     "output_type": "stream",
     "text": [
      "              precision    recall  f1-score   support\n",
      "\n",
      "           0       1.00      1.00      1.00     17589\n",
      "           1       1.00      1.00      1.00     11528\n",
      "\n",
      "    accuracy                           1.00     29117\n",
      "   macro avg       1.00      1.00      1.00     29117\n",
      "weighted avg       1.00      1.00      1.00     29117\n",
      "\n"
     ]
    }
   ],
   "source": [
    "# Compute confusion matrix\n",
    "cm = confusion_matrix(y_true, pred)\n",
    "print(cm)\n",
    "print('Ploting confusion matrix for Activation: RELU & Optimizer: ADAM')\n",
    "plt.figure()\n",
    "label=np.array([0,1])\n",
    "plot_confusion_matrix(cm,label)\n",
    "plt.show()\n",
    "print(classification_report(y_true, pred))"
   ]
  },
  {
   "cell_type": "code",
   "execution_count": null,
   "id": "9f40407b",
   "metadata": {},
   "outputs": [],
   "source": []
  },
  {
   "cell_type": "code",
   "execution_count": 41,
   "id": "be373c2f",
   "metadata": {},
   "outputs": [
    {
     "name": "stdout",
     "output_type": "stream",
     "text": [
      "Epoch 1/1000\n",
      "3640/3640 - 2s - loss: 0.0136 - accuracy: 0.9848 - val_loss: 0.0057 - val_accuracy: 0.9940\n",
      "Epoch 2/1000\n",
      "3640/3640 - 2s - loss: 0.0052 - accuracy: 0.9956 - val_loss: 0.0038 - val_accuracy: 0.9964\n",
      "Epoch 3/1000\n",
      "3640/3640 - 2s - loss: 0.0038 - accuracy: 0.9969 - val_loss: 0.0034 - val_accuracy: 0.9970\n",
      "Epoch 4/1000\n",
      "3640/3640 - 2s - loss: 0.0031 - accuracy: 0.9972 - val_loss: 0.0028 - val_accuracy: 0.9976\n",
      "Epoch 5/1000\n",
      "3640/3640 - 2s - loss: 0.0027 - accuracy: 0.9975 - val_loss: 0.0025 - val_accuracy: 0.9975\n",
      "Epoch 6/1000\n",
      "3640/3640 - 2s - loss: 0.0025 - accuracy: 0.9976 - val_loss: 0.0021 - val_accuracy: 0.9978\n",
      "Epoch 7/1000\n",
      "3640/3640 - 2s - loss: 0.0023 - accuracy: 0.9979 - val_loss: 0.0024 - val_accuracy: 0.9979\n",
      "Epoch 8/1000\n",
      "3640/3640 - 2s - loss: 0.0021 - accuracy: 0.9981 - val_loss: 0.0021 - val_accuracy: 0.9982\n",
      "Epoch 9/1000\n",
      "3640/3640 - 2s - loss: 0.0020 - accuracy: 0.9982 - val_loss: 0.0019 - val_accuracy: 0.9983\n",
      "Epoch 00009: early stopping\n"
     ]
    }
   ],
   "source": [
    "#FULLY CONNECTED NEURAL MODEL WITH ACTIVATION SIGMOID AND OPTIMIZER ADAM \n",
    "model=Sequential()\n",
    "model.add(Dense(50, input_dim=x.shape[1], activation='sigmoid'))\n",
    "model.add(Dense(40,activation='sigmoid'))\n",
    "model.add(Dense(2))\n",
    "model.compile(loss='mean_squared_error', optimizer='adam',metrics=['accuracy'])\n",
    "monitor = EarlyStopping(monitor='val_loss', min_delta=1e-3, patience=5, verbose=2, mode='auto')\n",
    "model.fit(x_train,y_train,validation_data=(x_test,y_test),callbacks=[monitor],verbose=2,epochs=1000)\n",
    "\n",
    "pred = model.predict(x_test)\n",
    "pred = np.argmax(pred,axis=1)\n",
    "y_true = np.argmax(y_test,axis=1)\n",
    "store_results('SIGMOID','ADAM',' ' ,' ',y_true,pred)"
   ]
  },
  {
   "cell_type": "code",
   "execution_count": 42,
   "id": "eccc4850",
   "metadata": {},
   "outputs": [
    {
     "name": "stdout",
     "output_type": "stream",
     "text": [
      "[[17564    25]\n",
      " [   24 11504]]\n",
      "Ploting confusion matrix for Activation: SIGMOID & Optimizer: ADAM\n"
     ]
    },
    {
     "data": {
      "image/png": "[encoded data removed]",
      "text/plain": [
       "<Figure size 432x288 with 2 Axes>"
      ]
     },
     "metadata": {
      "needs_background": "light"
     },
     "output_type": "display_data"
    },
    {
     "name": "stdout",
     "output_type": "stream",
     "text": [
      "              precision    recall  f1-score   support\n",
      "\n",
      "           0       1.00      1.00      1.00     17589\n",
      "           1       1.00      1.00      1.00     11528\n",
      "\n",
      "    accuracy                           1.00     29117\n",
      "   macro avg       1.00      1.00      1.00     29117\n",
      "weighted avg       1.00      1.00      1.00     29117\n",
      "\n"
     ]
    }
   ],
   "source": [
    "# Compute confusion matrix\n",
    "cm = confusion_matrix(y_true, pred)\n",
    "print(cm)\n",
    "print('Ploting confusion matrix for Activation: SIGMOID & Optimizer: ADAM')\n",
    "plt.figure()\n",
    "label=np.array([0,1])\n",
    "plot_confusion_matrix(cm,label)\n",
    "plt.show()\n",
    "print(classification_report(y_true, pred))"
   ]
  },
  {
   "cell_type": "code",
   "execution_count": 43,
   "id": "8fa5d7e4",
   "metadata": {},
   "outputs": [
    {
     "name": "stdout",
     "output_type": "stream",
     "text": [
      "Epoch 1/1000\n",
      "3640/3640 - 2s - loss: 0.0098 - accuracy: 0.9922 - val_loss: 0.0032 - val_accuracy: 0.9971\n",
      "Epoch 2/1000\n",
      "3640/3640 - 2s - loss: 0.0030 - accuracy: 0.9972 - val_loss: 0.0024 - val_accuracy: 0.9976\n",
      "Epoch 3/1000\n",
      "3640/3640 - 2s - loss: 0.0023 - accuracy: 0.9977 - val_loss: 0.0018 - val_accuracy: 0.9980\n",
      "Epoch 4/1000\n",
      "3640/3640 - 2s - loss: 0.0020 - accuracy: 0.9980 - val_loss: 0.0018 - val_accuracy: 0.9982\n",
      "Epoch 5/1000\n",
      "3640/3640 - 1s - loss: 0.0018 - accuracy: 0.9982 - val_loss: 0.0017 - val_accuracy: 0.9981\n",
      "Epoch 6/1000\n",
      "3640/3640 - 2s - loss: 0.0016 - accuracy: 0.9983 - val_loss: 0.0014 - val_accuracy: 0.9984\n",
      "Epoch 7/1000\n",
      "3640/3640 - 1s - loss: 0.0015 - accuracy: 0.9985 - val_loss: 0.0015 - val_accuracy: 0.9984\n",
      "Epoch 8/1000\n",
      "3640/3640 - 2s - loss: 0.0014 - accuracy: 0.9986 - val_loss: 0.0015 - val_accuracy: 0.9984\n",
      "Epoch 00008: early stopping\n"
     ]
    }
   ],
   "source": [
    "#FULLY CONNECTED NEURAL MODEL WITH ACTIVATION TANH AND OPTIMIZER ADAM \n",
    "model=Sequential()\n",
    "model.add(Dense(30, input_dim=x.shape[1], activation='tanh'))\n",
    "model.add(Dense(20,activation='tanh'))\n",
    "model.add(Dense(2))\n",
    "model.compile(loss='mean_squared_error', optimizer='adam',metrics=['accuracy'])\n",
    "monitor = EarlyStopping(monitor='val_loss', min_delta=1e-3, patience=5, verbose=2, mode='auto')\n",
    "model.fit(x_train,y_train,validation_data=(x_test,y_test),callbacks=[monitor],verbose=2,epochs=1000)\n",
    "\n",
    "\n",
    "pred = model.predict(x_test)\n",
    "pred = np.argmax(pred,axis=1)\n",
    "y_true = np.argmax(y_test,axis=1)\n",
    "store_results('TANH','ADAM',' ' ,' ',y_true,pred)"
   ]
  },
  {
   "cell_type": "code",
   "execution_count": 44,
   "id": "459254c7",
   "metadata": {},
   "outputs": [
    {
     "name": "stdout",
     "output_type": "stream",
     "text": [
      "[[17569    20]\n",
      " [   26 11502]]\n",
      "Ploting confusion matrix for Activation: TANH & Optimizer: ADAM\n"
     ]
    },
    {
     "data": {
      "image/png": "[encoded data removed]",
      "text/plain": [
       "<Figure size 432x288 with 2 Axes>"
      ]
     },
     "metadata": {
      "needs_background": "light"
     },
     "output_type": "display_data"
    },
    {
     "name": "stdout",
     "output_type": "stream",
     "text": [
      "              precision    recall  f1-score   support\n",
      "\n",
      "           0       1.00      1.00      1.00     17589\n",
      "           1       1.00      1.00      1.00     11528\n",
      "\n",
      "    accuracy                           1.00     29117\n",
      "   macro avg       1.00      1.00      1.00     29117\n",
      "weighted avg       1.00      1.00      1.00     29117\n",
      "\n"
     ]
    }
   ],
   "source": [
    "# Compute confusion matrix\n",
    "cm = confusion_matrix(y_true, pred)\n",
    "print(cm)\n",
    "print('Ploting confusion matrix for Activation: TANH & Optimizer: ADAM')\n",
    "plt.figure()\n",
    "label=np.array([0,1])\n",
    "plot_confusion_matrix(cm,label)\n",
    "plt.show()\n",
    "print(classification_report(y_true, pred))"
   ]
  },
  {
   "cell_type": "code",
   "execution_count": 45,
   "id": "cec21826",
   "metadata": {},
   "outputs": [
    {
     "name": "stdout",
     "output_type": "stream",
     "text": [
      "Epoch 1/1000\n",
      "3640/3640 - 1s - loss: 0.0349 - accuracy: 0.9769 - val_loss: 0.0163 - val_accuracy: 0.9837\n",
      "Epoch 2/1000\n",
      "3640/3640 - 1s - loss: 0.0146 - accuracy: 0.9839 - val_loss: 0.0119 - val_accuracy: 0.9859\n",
      "Epoch 3/1000\n",
      "3640/3640 - 1s - loss: 0.0098 - accuracy: 0.9878 - val_loss: 0.0108 - val_accuracy: 0.9927\n",
      "Epoch 4/1000\n",
      "3640/3640 - 1s - loss: 0.0079 - accuracy: 0.9931 - val_loss: 0.0103 - val_accuracy: 0.9943\n",
      "Epoch 5/1000\n",
      "3640/3640 - 1s - loss: 0.0062 - accuracy: 0.9947 - val_loss: 0.0088 - val_accuracy: 0.9957\n",
      "Epoch 6/1000\n",
      "3640/3640 - 1s - loss: 0.0053 - accuracy: 0.9954 - val_loss: 0.0090 - val_accuracy: 0.9960\n",
      "Epoch 7/1000\n",
      "3640/3640 - 1s - loss: 0.0049 - accuracy: 0.9956 - val_loss: 0.0086 - val_accuracy: 0.9962\n",
      "Epoch 8/1000\n",
      "3640/3640 - 1s - loss: 0.0045 - accuracy: 0.9961 - val_loss: 0.0081 - val_accuracy: 0.9964\n",
      "Epoch 9/1000\n",
      "3640/3640 - 1s - loss: 0.0044 - accuracy: 0.9964 - val_loss: 0.0082 - val_accuracy: 0.9965\n",
      "Epoch 10/1000\n",
      "3640/3640 - 1s - loss: 0.0041 - accuracy: 0.9965 - val_loss: 0.0083 - val_accuracy: 0.9963\n",
      "Epoch 00010: early stopping\n"
     ]
    }
   ],
   "source": [
    "#FULLY CONNECTED NEURAL MODEL WITH ACTIVATION RELU AND OPTIMIZER SGD \n",
    "model=Sequential()\n",
    "model.add(Dense(40, input_dim=x.shape[1], activation='relu'))\n",
    "model.add(Dense(20,activation='relu'))\n",
    "model.add(Dense(2))\n",
    "model.compile(loss='mean_squared_error', optimizer='sgd',metrics=['accuracy'])\n",
    "monitor = EarlyStopping(monitor='val_loss', min_delta=1e-3, patience=5, verbose=2, mode='auto')\n",
    "model.fit(x_train,y_train,validation_data=(x_test,y_test),callbacks=[monitor],verbose=2,epochs=1000)\n",
    "\n",
    "pred = model.predict(x_test)\n",
    "pred = np.argmax(pred,axis=1)\n",
    "y_true = np.argmax(y_test,axis=1)\n",
    "store_results('RELU','SGD',' ' ,' ',y_true,pred)"
   ]
  },
  {
   "cell_type": "code",
   "execution_count": 46,
   "id": "043bf264",
   "metadata": {
    "scrolled": false
   },
   "outputs": [
    {
     "name": "stdout",
     "output_type": "stream",
     "text": [
      "[[17542    47]\n",
      " [   62 11466]]\n",
      "Ploting confusion matrix for Activation: RELU & Optimizer: SGD\n"
     ]
    },
    {
     "data": {
      "image/png": "[encoded data removed]",
      "text/plain": [
       "<Figure size 432x288 with 2 Axes>"
      ]
     },
     "metadata": {
      "needs_background": "light"
     },
     "output_type": "display_data"
    },
    {
     "name": "stdout",
     "output_type": "stream",
     "text": [
      "              precision    recall  f1-score   support\n",
      "\n",
      "           0       1.00      1.00      1.00     17589\n",
      "           1       1.00      0.99      1.00     11528\n",
      "\n",
      "    accuracy                           1.00     29117\n",
      "   macro avg       1.00      1.00      1.00     29117\n",
      "weighted avg       1.00      1.00      1.00     29117\n",
      "\n"
     ]
    }
   ],
   "source": [
    "# Compute confusion matrix\n",
    "cm = confusion_matrix(y_true, pred)\n",
    "print(cm)\n",
    "print('Ploting confusion matrix for Activation: RELU & Optimizer: SGD')\n",
    "plt.figure()\n",
    "label=np.array([0,1])\n",
    "plot_confusion_matrix(cm,label)\n",
    "plt.show()\n",
    "print(classification_report(y_true, pred))"
   ]
  },
  {
   "cell_type": "code",
   "execution_count": 47,
   "id": "6f5b148a",
   "metadata": {},
   "outputs": [
    {
     "name": "stdout",
     "output_type": "stream",
     "text": [
      "Epoch 1/1000\n",
      "WARNING:tensorflow:Callbacks method `on_train_batch_end` is slow compared to the batch time (batch time: 0.0000s vs `on_train_batch_end` time: 0.0005s). Check your callbacks.\n",
      "3640/3640 - 1s - loss: 0.0635 - accuracy: 0.9358 - val_loss: 0.0288 - val_accuracy: 0.9771\n",
      "Epoch 2/1000\n",
      "3640/3640 - 1s - loss: 0.0265 - accuracy: 0.9767 - val_loss: 0.0248 - val_accuracy: 0.9770\n",
      "Epoch 3/1000\n",
      "3640/3640 - 1s - loss: 0.0236 - accuracy: 0.9769 - val_loss: 0.0225 - val_accuracy: 0.9775\n",
      "Epoch 4/1000\n",
      "3640/3640 - 1s - loss: 0.0218 - accuracy: 0.9778 - val_loss: 0.0210 - val_accuracy: 0.9780\n",
      "Epoch 5/1000\n",
      "3640/3640 - 1s - loss: 0.0203 - accuracy: 0.9785 - val_loss: 0.0195 - val_accuracy: 0.9792\n",
      "Epoch 6/1000\n",
      "3640/3640 - 1s - loss: 0.0190 - accuracy: 0.9791 - val_loss: 0.0183 - val_accuracy: 0.9791\n",
      "Epoch 7/1000\n",
      "3640/3640 - 1s - loss: 0.0179 - accuracy: 0.9798 - val_loss: 0.0172 - val_accuracy: 0.9801\n",
      "Epoch 8/1000\n",
      "3640/3640 - 1s - loss: 0.0168 - accuracy: 0.9814 - val_loss: 0.0162 - val_accuracy: 0.9823\n",
      "Epoch 9/1000\n",
      "3640/3640 - 1s - loss: 0.0158 - accuracy: 0.9823 - val_loss: 0.0152 - val_accuracy: 0.9835\n",
      "Epoch 10/1000\n",
      "3640/3640 - 1s - loss: 0.0149 - accuracy: 0.9829 - val_loss: 0.0144 - val_accuracy: 0.9840\n",
      "Epoch 11/1000\n",
      "3640/3640 - 1s - loss: 0.0141 - accuracy: 0.9833 - val_loss: 0.0135 - val_accuracy: 0.9842\n",
      "Epoch 12/1000\n",
      "3640/3640 - 1s - loss: 0.0134 - accuracy: 0.9837 - val_loss: 0.0129 - val_accuracy: 0.9847\n",
      "Epoch 13/1000\n",
      "3640/3640 - 1s - loss: 0.0128 - accuracy: 0.9841 - val_loss: 0.0124 - val_accuracy: 0.9850\n",
      "Epoch 14/1000\n",
      "3640/3640 - 1s - loss: 0.0123 - accuracy: 0.9845 - val_loss: 0.0119 - val_accuracy: 0.9852\n",
      "Epoch 15/1000\n",
      "3640/3640 - 1s - loss: 0.0118 - accuracy: 0.9847 - val_loss: 0.0115 - val_accuracy: 0.9852\n",
      "Epoch 16/1000\n",
      "3640/3640 - 1s - loss: 0.0115 - accuracy: 0.9849 - val_loss: 0.0112 - val_accuracy: 0.9854\n",
      "Epoch 17/1000\n",
      "3640/3640 - 1s - loss: 0.0111 - accuracy: 0.9850 - val_loss: 0.0109 - val_accuracy: 0.9856\n",
      "Epoch 18/1000\n",
      "3640/3640 - 1s - loss: 0.0108 - accuracy: 0.9851 - val_loss: 0.0107 - val_accuracy: 0.9859\n",
      "Epoch 19/1000\n",
      "3640/3640 - 1s - loss: 0.0106 - accuracy: 0.9852 - val_loss: 0.0103 - val_accuracy: 0.9858\n",
      "Epoch 20/1000\n",
      "3640/3640 - 1s - loss: 0.0103 - accuracy: 0.9852 - val_loss: 0.0101 - val_accuracy: 0.9859\n",
      "Epoch 21/1000\n",
      "3640/3640 - 1s - loss: 0.0101 - accuracy: 0.9852 - val_loss: 0.0098 - val_accuracy: 0.9860\n",
      "Epoch 22/1000\n",
      "3640/3640 - 1s - loss: 0.0099 - accuracy: 0.9853 - val_loss: 0.0096 - val_accuracy: 0.9860\n",
      "Epoch 23/1000\n",
      "3640/3640 - 1s - loss: 0.0097 - accuracy: 0.9854 - val_loss: 0.0094 - val_accuracy: 0.9862\n",
      "Epoch 24/1000\n",
      "3640/3640 - 1s - loss: 0.0095 - accuracy: 0.9857 - val_loss: 0.0092 - val_accuracy: 0.9865\n",
      "Epoch 25/1000\n",
      "3640/3640 - 1s - loss: 0.0093 - accuracy: 0.9859 - val_loss: 0.0090 - val_accuracy: 0.9868\n",
      "Epoch 26/1000\n",
      "3640/3640 - 1s - loss: 0.0091 - accuracy: 0.9862 - val_loss: 0.0088 - val_accuracy: 0.9871\n",
      "Epoch 27/1000\n",
      "3640/3640 - 1s - loss: 0.0089 - accuracy: 0.9866 - val_loss: 0.0087 - val_accuracy: 0.9880\n",
      "Epoch 28/1000\n",
      "3640/3640 - 1s - loss: 0.0087 - accuracy: 0.9872 - val_loss: 0.0085 - val_accuracy: 0.9881\n",
      "Epoch 29/1000\n",
      "3640/3640 - 1s - loss: 0.0085 - accuracy: 0.9879 - val_loss: 0.0083 - val_accuracy: 0.9890\n",
      "Epoch 30/1000\n",
      "3640/3640 - 1s - loss: 0.0084 - accuracy: 0.9885 - val_loss: 0.0081 - val_accuracy: 0.9894\n",
      "Epoch 00030: early stopping\n"
     ]
    }
   ],
   "source": [
    "#FULLY CONNECTED NEURAL MODEL WITH ACTIVATION SIGMOID AND OPTIMIZER SGD \n",
    "model=Sequential()\n",
    "model.add(Dense(40, input_dim=x.shape[1], activation='sigmoid'))\n",
    "model.add(Dense(20,activation='sigmoid'))\n",
    "model.add(Dense(2))\n",
    "model.compile(loss='mean_squared_error', optimizer='sgd',metrics=['accuracy'])\n",
    "monitor = EarlyStopping(monitor='val_loss', min_delta=1e-3, patience=5, verbose=2, mode='auto')\n",
    "model.fit(x_train,y_train,validation_data=(x_test,y_test),callbacks=[monitor],verbose=2,epochs=1000)\n",
    "\n",
    "pred = model.predict(x_test)\n",
    "pred = np.argmax(pred,axis=1)\n",
    "y_true = np.argmax(y_test,axis=1)\n",
    "store_results('SIGMOID','SGD',' ' ,' ',y_true,pred)"
   ]
  },
  {
   "cell_type": "code",
   "execution_count": 48,
   "id": "ef6651c3",
   "metadata": {},
   "outputs": [
    {
     "name": "stdout",
     "output_type": "stream",
     "text": [
      "[[17506    83]\n",
      " [  226 11302]]\n",
      "Ploting confusion matrix for Activation: SIGMOID & Optimizer: SGD\n"
     ]
    },
    {
     "data": {
      "image/png": "[encoded data removed]",
      "text/plain": [
       "<Figure size 432x288 with 2 Axes>"
      ]
     },
     "metadata": {
      "needs_background": "light"
     },
     "output_type": "display_data"
    },
    {
     "name": "stdout",
     "output_type": "stream",
     "text": [
      "              precision    recall  f1-score   support\n",
      "\n",
      "           0       0.99      1.00      0.99     17589\n",
      "           1       0.99      0.98      0.99     11528\n",
      "\n",
      "    accuracy                           0.99     29117\n",
      "   macro avg       0.99      0.99      0.99     29117\n",
      "weighted avg       0.99      0.99      0.99     29117\n",
      "\n"
     ]
    }
   ],
   "source": [
    "# Compute confusion matrix\n",
    "cm = confusion_matrix(y_true, pred)\n",
    "print(cm)\n",
    "print('Ploting confusion matrix for Activation: SIGMOID & Optimizer: SGD')\n",
    "plt.figure()\n",
    "label=np.array([0,1])\n",
    "plot_confusion_matrix(cm,label)\n",
    "plt.show()\n",
    "print(classification_report(y_true, pred))"
   ]
  },
  {
   "cell_type": "code",
   "execution_count": 49,
   "id": "ffdb3141",
   "metadata": {},
   "outputs": [
    {
     "name": "stdout",
     "output_type": "stream",
     "text": [
      "Epoch 1/1000\n",
      "3640/3640 - 1s - loss: 0.0199 - accuracy: 0.9793 - val_loss: 0.0123 - val_accuracy: 0.9843\n",
      "Epoch 2/1000\n",
      "3640/3640 - 1s - loss: 0.0107 - accuracy: 0.9860 - val_loss: 0.0094 - val_accuracy: 0.9897\n",
      "Epoch 3/1000\n",
      "3640/3640 - 1s - loss: 0.0086 - accuracy: 0.9915 - val_loss: 0.0077 - val_accuracy: 0.9929\n",
      "Epoch 4/1000\n",
      "3640/3640 - 1s - loss: 0.0072 - accuracy: 0.9937 - val_loss: 0.0067 - val_accuracy: 0.9942\n",
      "Epoch 5/1000\n",
      "3640/3640 - 1s - loss: 0.0063 - accuracy: 0.9946 - val_loss: 0.0058 - val_accuracy: 0.9950\n",
      "Epoch 6/1000\n",
      "3640/3640 - 1s - loss: 0.0056 - accuracy: 0.9953 - val_loss: 0.0052 - val_accuracy: 0.9953\n",
      "Epoch 7/1000\n",
      "3640/3640 - 1s - loss: 0.0051 - accuracy: 0.9959 - val_loss: 0.0048 - val_accuracy: 0.9958\n",
      "Epoch 8/1000\n",
      "3640/3640 - 1s - loss: 0.0047 - accuracy: 0.9961 - val_loss: 0.0045 - val_accuracy: 0.9964\n",
      "Epoch 9/1000\n",
      "3640/3640 - 1s - loss: 0.0045 - accuracy: 0.9963 - val_loss: 0.0043 - val_accuracy: 0.9964\n",
      "Epoch 10/1000\n",
      "3640/3640 - 1s - loss: 0.0043 - accuracy: 0.9965 - val_loss: 0.0041 - val_accuracy: 0.9965\n",
      "Epoch 11/1000\n",
      "3640/3640 - 1s - loss: 0.0041 - accuracy: 0.9966 - val_loss: 0.0040 - val_accuracy: 0.9967\n",
      "Epoch 12/1000\n",
      "3640/3640 - 1s - loss: 0.0040 - accuracy: 0.9967 - val_loss: 0.0038 - val_accuracy: 0.9968\n",
      "Epoch 13/1000\n",
      "3640/3640 - 1s - loss: 0.0039 - accuracy: 0.9968 - val_loss: 0.0038 - val_accuracy: 0.9970\n",
      "Epoch 14/1000\n",
      "3640/3640 - 1s - loss: 0.0038 - accuracy: 0.9969 - val_loss: 0.0036 - val_accuracy: 0.9970\n",
      "Epoch 15/1000\n",
      "3640/3640 - 1s - loss: 0.0037 - accuracy: 0.9969 - val_loss: 0.0036 - val_accuracy: 0.9970\n",
      "Epoch 00015: early stopping\n"
     ]
    }
   ],
   "source": [
    "#FULLY CONNECTED NEURAL MODEL WITH ACTIVATION TANH AND OPTIMIZER SGD \n",
    "model=Sequential()\n",
    "model.add(Dense(50, input_dim=x.shape[1], activation='tanh'))\n",
    "model.add(Dense(40,activation='tanh'))\n",
    "model.add(Dense(2))\n",
    "model.compile(loss='mean_squared_error', optimizer='sgd',metrics=['accuracy'])\n",
    "monitor = EarlyStopping(monitor='val_loss', min_delta=1e-3, patience=5, verbose=2, mode='auto')\n",
    "model.fit(x_train,y_train,validation_data=(x_test,y_test),callbacks=[monitor],verbose=2,epochs=1000)\n",
    "\n",
    "pred = model.predict(x_test)\n",
    "pred = np.argmax(pred,axis=1)\n",
    "y_true = np.argmax(y_test,axis=1)\n",
    "store_results('TANH','SGD',' ' ,' ',y_true,pred)"
   ]
  },
  {
   "cell_type": "code",
   "execution_count": 50,
   "id": "23cab90d",
   "metadata": {},
   "outputs": [
    {
     "name": "stdout",
     "output_type": "stream",
     "text": [
      "[[17544    45]\n",
      " [   43 11485]]\n",
      "Ploting confusion matrix for Activation: TANH & Optimizer: SGD\n"
     ]
    },
    {
     "data": {
      "image/png": "[encoded data removed]",
      "text/plain": [
       "<Figure size 432x288 with 2 Axes>"
      ]
     },
     "metadata": {
      "needs_background": "light"
     },
     "output_type": "display_data"
    },
    {
     "name": "stdout",
     "output_type": "stream",
     "text": [
      "              precision    recall  f1-score   support\n",
      "\n",
      "           0       1.00      1.00      1.00     17589\n",
      "           1       1.00      1.00      1.00     11528\n",
      "\n",
      "    accuracy                           1.00     29117\n",
      "   macro avg       1.00      1.00      1.00     29117\n",
      "weighted avg       1.00      1.00      1.00     29117\n",
      "\n"
     ]
    }
   ],
   "source": [
    "# Compute confusion matrix\n",
    "cm = confusion_matrix(y_true, pred)\n",
    "print(cm)\n",
    "print('Ploting confusion matrix for Activation: TANH & Optimizer: SGD')\n",
    "plt.figure()\n",
    "label=np.array([0,1])\n",
    "plot_confusion_matrix(cm,label)\n",
    "plt.show()\n",
    "print(classification_report(y_true, pred))"
   ]
  },
  {
   "cell_type": "code",
   "execution_count": null,
   "id": "91ddbd04",
   "metadata": {},
   "outputs": [
    {
     "name": "stdout",
     "output_type": "stream",
     "text": [
      "Epoch 1/1000\n"
     ]
    }
   ],
   "source": [
    "#CNN MODEl WITH ACTIVATION RELU AND OPTIMIZER ADAM\n",
    "cnn = Sequential()\n",
    "cnn.add(Conv2D(32, kernel_size=(3, 3),strides=(1, 1), padding='valid'))\n",
    "cnn.add(Activation('relu'))\n",
    "cnn.add(MaxPooling2D(pool_size=(2, 2)))\n",
    "cnn.add(Dense(128, activation='relu'))\n",
    "cnn.add(Dropout(0.5))\n",
    "cnn.compile(loss='mean_squared_error', optimizer='adam', metrics=['accuracy'])\n",
    "cnn = EarlyStopping(monitor='val_loss', min_delta=1e-3, patience=5, verbose=2, mode='auto')\n",
    "model.fit(x_train,y_train,validation_data=(x_test,y_test),callbacks=[monitor],verbose=2,epochs=1000)\n",
    "\n",
    "pred = model.predict(x_test)\n",
    "pred = np.argmax(pred,axis=1)\n",
    "y_true = np.argmax(y_test,axis=1)\n",
    "store_results('RELU','ADAM','32' ,'(3,3)',y_true,pred)"
   ]
  },
  {
   "cell_type": "code",
   "execution_count": null,
   "id": "5833a111",
   "metadata": {},
   "outputs": [],
   "source": [
    "# Compute confusion matrix\n",
    "cm = confusion_matrix(y_true, pred)\n",
    "print(cm)\n",
    "print('Ploting confusion matrix for Activation: RELU & Optimizer: ADAM')\n",
    "plt.figure()\n",
    "label=np.array([0,1])\n",
    "plot_confusion_matrix(cm,label)\n",
    "plt.show()\n",
    "print(classification_report(y_true, pred))"
   ]
  },
  {
   "cell_type": "code",
   "execution_count": null,
   "id": "77338a61",
   "metadata": {},
   "outputs": [],
   "source": [
    "#CNN MODEl WITH ACTIVATION SIGMOID AND OPTIMIZER ADAM\n",
    "cnn = Sequential()\n",
    "cnn.add(Conv2D(32, kernel_size=(3, 3),strides=(1, 1), padding='valid'))\n",
    "cnn.add(Activation('sigmoid'))\n",
    "cnn.add(MaxPooling2D(pool_size=(2, 2)))\n",
    "cnn.add(Dense(128, activation='sigmoid'))\n",
    "cnn.add(Dropout(0.5))\n",
    "cnn.compile(loss='mean_squared_error', optimizer='adam', metrics=['accuracy'])\n",
    "cnn = EarlyStopping(monitor='val_loss', min_delta=1e-3, patience=5, verbose=2, mode='auto')\n",
    "model.fit(x_train,y_train,validation_data=(x_test,y_test),callbacks=[monitor],verbose=2,epochs=1000)\n",
    "\n",
    "pred = model.predict(x_test)\n",
    "pred = np.argmax(pred,axis=1)\n",
    "y_true = np.argmax(y_test,axis=1)\n",
    "store_results('SIGMOID','ADAM','32' ,'(3,3)',y_true,pred)"
   ]
  },
  {
   "cell_type": "code",
   "execution_count": null,
   "id": "0e581154",
   "metadata": {},
   "outputs": [],
   "source": [
    "# Compute confusion matrix\n",
    "cm = confusion_matrix(y_true, pred)\n",
    "print(cm)\n",
    "print('Ploting confusion matrix for Activation: SIGMOID & Optimizer: ADAM')\n",
    "plt.figure()\n",
    "label=np.array([0,1])\n",
    "plot_confusion_matrix(cm,label)\n",
    "plt.show()\n",
    "print(classification_report(y_true, pred))"
   ]
  },
  {
   "cell_type": "code",
   "execution_count": null,
   "id": "1910ecf7",
   "metadata": {},
   "outputs": [],
   "source": [
    "#CNN MODEl WITH ACTIVATION TANH AND OPTIMIZER ADAM\n",
    "cnn = Sequential()\n",
    "cnn.add(Conv2D(32, kernel_size=(3, 3),strides=(1, 1), padding='valid'))\n",
    "cnn.add(Activation('tanh'))\n",
    "cnn.add(MaxPooling2D(pool_size=(2, 2)))\n",
    "cnn.add(Dense(128, activation='tanh'))\n",
    "cnn.add(Dropout(0.5))\n",
    "cnn.compile(loss='mean_squared_error', optimizer='adam', metrics=['accuracy'])\n",
    "cnn = EarlyStopping(monitor='val_loss', min_delta=1e-3, patience=5, verbose=2, mode='auto')\n",
    "model.fit(x_train,y_train,validation_data=(x_test,y_test),callbacks=[monitor],verbose=2,epochs=1000)\n",
    "\n",
    "pred = model.predict(x_test)\n",
    "pred = np.argmax(pred,axis=1)\n",
    "y_true = np.argmax(y_test,axis=1)\n",
    "store_results('TANH','ADAM','32' ,'(3,3)',y_true,pred)"
   ]
  },
  {
   "cell_type": "code",
   "execution_count": null,
   "id": "063ed271",
   "metadata": {},
   "outputs": [],
   "source": [
    "# Compute confusion matrix\n",
    "cm = confusion_matrix(y_true, pred)\n",
    "print(cm)\n",
    "print('Ploting confusion matrix for Activation: TANH & Optimizer: ADAM')\n",
    "plt.figure()\n",
    "label=np.array([0,1])\n",
    "plot_confusion_matrix(cm,label)\n",
    "plt.show()\n",
    "print(classification_report(y_true, pred))"
   ]
  },
  {
   "cell_type": "code",
   "execution_count": null,
   "id": "f7a2f6b5",
   "metadata": {},
   "outputs": [],
   "source": [
    "#CNN MODEl WITH ACTIVATION RELU AND OPTIMIZER SGD\n",
    "cnn = Sequential()\n",
    "cnn.add(Conv2D(32, kernel_size=(3, 3),strides=(1, 1), padding='valid'))\n",
    "cnn.add(Activation('relu'))\n",
    "cnn.add(MaxPooling2D(pool_size=(2, 2)))\n",
    "cnn.add(Dense(128, activation='relu'))\n",
    "cnn.add(Dropout(0.5))\n",
    "cnn.compile(loss='mean_squared_error', optimizer='sgd', metrics=['accuracy'])\n",
    "cnn = EarlyStopping(monitor='val_loss', min_delta=1e-3, patience=5, verbose=2, mode='auto')\n",
    "model.fit(x_train,y_train,validation_data=(x_test,y_test),callbacks=[monitor],verbose=2,epochs=1000)\n",
    "\n",
    "pred = model.predict(x_test)\n",
    "pred = np.argmax(pred,axis=1)\n",
    "y_true = np.argmax(y_test,axis=1)\n",
    "store_results('RELU','SGD','32' ,'(3,3)',y_true,pred)"
   ]
  },
  {
   "cell_type": "code",
   "execution_count": null,
   "id": "e265c5cb",
   "metadata": {},
   "outputs": [],
   "source": [
    "# Compute confusion matrix\n",
    "cm = confusion_matrix(y_true, pred)\n",
    "print(cm)\n",
    "print('Ploting confusion matrix for Activation: RELU & Optimizer: SGD')\n",
    "plt.figure()\n",
    "label=np.array([0,1])\n",
    "plot_confusion_matrix(cm,label)\n",
    "plt.show()\n",
    "print(classification_report(y_true, pred))"
   ]
  },
  {
   "cell_type": "code",
   "execution_count": null,
   "id": "51c058e5",
   "metadata": {},
   "outputs": [],
   "source": [
    "#CNN MODEl WITH ACTIVATION SIGMOID AND OPTIMIZER SGD\n",
    "cnn = Sequential()\n",
    "cnn.add(Conv2D(32, kernel_size=(3, 3),strides=(1, 1), padding='valid'))\n",
    "cnn.add(Activation('sigmoid'))\n",
    "cnn.add(MaxPooling2D(pool_size=(2, 2)))\n",
    "cnn.add(Dense(128, activation='sigmoid'))\n",
    "cnn.add(Dropout(0.5))\n",
    "cnn.compile(loss='mean_squared_error', optimizer='sgd', metrics=['accuracy'])\n",
    "cnn = EarlyStopping(monitor='val_loss', min_delta=1e-3, patience=5, verbose=2, mode='auto')\n",
    "model.fit(x_train,y_train,validation_data=(x_test,y_test),callbacks=[monitor],verbose=2,epochs=1000)\n",
    "\n",
    "pred = model.predict(x_test)\n",
    "pred = np.argmax(pred,axis=1)\n",
    "y_true = np.argmax(y_test,axis=1)\n",
    "store_results('SIGMOID','SGD','32' ,'(3,3)',y_true,pred)"
   ]
  },
  {
   "cell_type": "code",
   "execution_count": null,
   "id": "6a6a9388",
   "metadata": {},
   "outputs": [],
   "source": [
    "# Compute confusion matrix\n",
    "cm = confusion_matrix(y_true, pred)\n",
    "print(cm)\n",
    "print('Ploting confusion matrix for Activation: SIGMOID & Optimizer: SGD')\n",
    "plt.figure()\n",
    "label=np.array([0,1])\n",
    "plot_confusion_matrix(cm,label)\n",
    "plt.show()\n",
    "print(classification_report(y_true, pred))"
   ]
  },
  {
   "cell_type": "code",
   "execution_count": null,
   "id": "8b7034cc",
   "metadata": {},
   "outputs": [],
   "source": [
    "#CNN MODEl WITH ACTIVATION TANH AND OPTIMIZER SGD\n",
    "cnn = Sequential()\n",
    "cnn.add(Conv2D(32, kernel_size=(3, 3),strides=(2, 2), padding='valid'))\n",
    "cnn.add(Activation('tanh'))\n",
    "cnn.add(MaxPooling2D(pool_size=(2, 2)))\n",
    "cnn.add(Dense(128, activation='tanh'))\n",
    "cnn.add(Dropout(0.5))\n",
    "cnn.compile(loss='mean_squared_error', optimizer='sgd', metrics=['accuracy'])\n",
    "cnn = EarlyStopping(monitor='val_loss', min_delta=1e-3, patience=5, verbose=2, mode='auto')\n",
    "model.fit(x_train,y_train,validation_data=(x_test,y_test),callbacks=[monitor],verbose=2,epochs=1000)\n",
    "\n",
    "pred = model.predict(x_test)\n",
    "pred = np.argmax(pred,axis=1)\n",
    "y_true = np.argmax(y_test,axis=1)\n",
    "store_results('TANH','SGD','32' ,'(3,3)',y_true,pred)"
   ]
  },
  {
   "cell_type": "code",
   "execution_count": null,
   "id": "f316f503",
   "metadata": {},
   "outputs": [],
   "source": [
    "# Compute confusion matrix\n",
    "cm = confusion_matrix(y_true, pred)\n",
    "print(cm)\n",
    "print('Ploting confusion matrix for Activation: TANH & Optimizer: SGD')\n",
    "plt.figure()\n",
    "label=np.array([0,1])\n",
    "plot_confusion_matrix(cm,label)\n",
    "plt.show()\n",
    "print(classification_report(y_true, pred))"
   ]
  },
  {
   "cell_type": "code",
   "execution_count": null,
   "id": "6bd346e2",
   "metadata": {},
   "outputs": [],
   "source": [
    "df_model_data"
   ]
  },
  {
   "cell_type": "code",
   "execution_count": null,
   "id": "b98de90c",
   "metadata": {},
   "outputs": [],
   "source": []
  },
  {
   "cell_type": "code",
   "execution_count": null,
   "id": "5900affd",
   "metadata": {},
   "outputs": [],
   "source": []
  }
 ],
 "metadata": {
  "kernelspec": {
   "display_name": "Python 3",
   "language": "python",
   "name": "python3"
  },
  "language_info": {
   "codemirror_mode": {
    "name": "ipython",
    "version": 3
   },
   "file_extension": ".py",
   "mimetype": "text/x-python",
   "name": "python",
   "nbconvert_exporter": "python",
   "pygments_lexer": "ipython3",
   "version": "3.8.8"
  }
 },
 "nbformat": 4,
 "nbformat_minor": 5
}
