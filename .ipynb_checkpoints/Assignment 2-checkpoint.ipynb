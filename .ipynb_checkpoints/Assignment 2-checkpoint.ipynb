{
 "cells": [
  {
   "cell_type": "code",
   "execution_count": 1,
   "id": "c421a4f6",
   "metadata": {},
   "outputs": [],
   "source": [
    "#Members: \n",
    "#Sharnpreet Singh - Id#: 219445227  \n",
    "#James Ochieng - Id#: 219285977\n",
    "#Palvinder Singh- Id#: 219445344\n",
    "\n",
    "import json\n",
    "import csv\n",
    "import pandas as pd\n",
    "import numpy as np\n",
    "import os\n",
    "\n",
    "from sklearn.model_selection import train_test_split\n",
    "\n",
    "from sklearn import metrics\n",
    "\n",
    "from tensorflow.keras.models import Sequential\n",
    "from tensorflow.keras.layers import Dense, Activation\n",
    "from tensorflow.keras.callbacks import EarlyStopping\n",
    "\n",
    "\n",
    "\n",
    "outfile = open(\"review.tsv\", 'w')\n",
    "sfile = csv.writer(outfile, delimiter =\"\\t\", quoting=csv.QUOTE_MINIMAL)\n",
    "sfile.writerow(['business_id','stars', 'text'])\n",
    "\n",
    "with open('yelp_academic_dataset_review.json', encoding=\"utf-8\") as f:   \n",
    "    for line in f:      \n",
    "        row = json.loads(line)        \n",
    "        # some special char must be encoded in 'utf-8' \n",
    "        sfile.writerow([row['business_id'], row['stars'], (row['text']).encode('utf-8')])   \n",
    "outfile.close()\n",
    "df= pd.read_csv('review.tsv', delimiter =\"\\t\", encoding=\"utf-8\")"
   ]
  },
  {
   "cell_type": "code",
   "execution_count": null,
   "id": "a365c2e1",
   "metadata": {},
   "outputs": [],
   "source": []
  }
 ],
 "metadata": {
  "kernelspec": {
   "display_name": "Python 3",
   "language": "python",
   "name": "python3"
  },
  "language_info": {
   "codemirror_mode": {
    "name": "ipython",
    "version": 3
   },
   "file_extension": ".py",
   "mimetype": "text/x-python",
   "name": "python",
   "nbconvert_exporter": "python",
   "pygments_lexer": "ipython3",
   "version": "3.8.8"
  }
 },
 "nbformat": 4,
 "nbformat_minor": 5
}
